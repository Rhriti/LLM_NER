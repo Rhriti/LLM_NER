{
  "cells": [
    {
      "cell_type": "markdown",
      "metadata": {
        "colab_type": "text",
        "id": "view-in-github"
      },
      "source": [
        "<a href=\"https://colab.research.google.com/github/Rhriti/Predii/blob/gh-pages/LLM_NER.ipynb\" target=\"_parent\"><img src=\"https://colab.research.google.com/assets/colab-badge.svg\" alt=\"Open In Colab\"/></a>"
      ]
    },
    {
      "cell_type": "code",
      "execution_count": null,
      "metadata": {
        "id": "LAqqtyfc7aHv"
      },
      "outputs": [],
      "source": [
        "pip install -U spacy -q\n"
      ]
    },
    {
      "cell_type": "code",
      "execution_count": null,
      "metadata": {
        "id": "NtwNDMVx7cHy"
      },
      "outputs": [],
      "source": [
        "import spacy\n",
        "from spacy.tokens import DocBin\n",
        "from tqdm import  tqdm\n",
        "\n",
        "nlp=spacy.blank(\"en\")\n",
        "db=DocBin()"
      ]
    },
    {
      "cell_type": "code",
      "execution_count": null,
      "metadata": {
        "id": "l63BlWcP7fTy"
      },
      "outputs": [],
      "source": [
        "import json\n",
        "f=open('./final_annotations.json')\n",
        "TRAIN_DATA=json.load(f)"
      ]
    },
    {
      "cell_type": "code",
      "execution_count": null,
      "metadata": {
        "colab": {
          "base_uri": "https://localhost:8080/"
        },
        "id": "IxpszLp_7rhM",
        "outputId": "a57a8c3a-f257-408a-b144-8ea60c86c256"
      },
      "outputs": [
        {
          "name": "stderr",
          "output_type": "stream",
          "text": [
            "100%|██████████| 48/48 [00:00<00:00, 594.40it/s]\n"
          ]
        }
      ],
      "source": [
        "\n",
        "for ele in tqdm(TRAIN_DATA['annotations']):\n",
        "    if ele is None:continue\n",
        "    text=ele[0]\n",
        "    annot=ele[1]\n",
        "    doc = nlp.make_doc(text)\n",
        "    ents = []\n",
        "    for start, end, label in annot[\"entities\"]:\n",
        "        span = doc.char_span(start, end, label=label, alignment_mode=\"contract\")\n",
        "        if span is None:\n",
        "            print(\"Skipping entity\")\n",
        "        else:\n",
        "            ents.append(span)\n",
        "    doc.ents = ents\n",
        "    db.add(doc)\n",
        "\n",
        "db.to_disk(\"./training_data.spacy\") # save the docbin object"
      ]
    },
    {
      "cell_type": "code",
      "execution_count": null,
      "metadata": {
        "colab": {
          "base_uri": "https://localhost:8080/"
        },
        "id": "4kZZA9f97zw0",
        "outputId": "d4040934-27cd-43b0-ffd9-282c3ea7bc67"
      },
      "outputs": [
        {
          "name": "stdout",
          "output_type": "stream",
          "text": [
            "\u001b[38;5;3m⚠ To generate a more effective transformer-based config (GPU-only),\n",
            "install the spacy-transformers package and re-run this command. The config\n",
            "generated now does not use transformers.\u001b[0m\n",
            "\u001b[38;5;4mℹ Generated config template specific for your use case\u001b[0m\n",
            "- Language: en\n",
            "- Pipeline: ner\n",
            "- Optimize for: efficiency\n",
            "- Hardware: CPU\n",
            "- Transformer: None\n",
            "\u001b[38;5;2m✔ Auto-filled config with all values\u001b[0m\n",
            "\u001b[38;5;2m✔ Saved config\u001b[0m\n",
            "config.cfg\n",
            "You can now add your data and train your pipeline:\n",
            "python -m spacy train config.cfg --paths.train ./train.spacy --paths.dev ./dev.spacy\n"
          ]
        }
      ],
      "source": [
        "! python -m spacy init config config.cfg --lang en --pipeline ner --optimize efficiency --force"
      ]
    },
    {
      "cell_type": "code",
      "execution_count": null,
      "metadata": {
        "colab": {
          "base_uri": "https://localhost:8080/"
        },
        "id": "Lfl86NFK79Y6",
        "outputId": "a4e0b5e0-bfa3-4c02-bd38-e6c91be52753"
      },
      "outputs": [
        {
          "name": "stdout",
          "output_type": "stream",
          "text": [
            "\u001b[38;5;4mℹ Saving to output directory: .\u001b[0m\n",
            "\u001b[38;5;4mℹ Using CPU\u001b[0m\n",
            "\u001b[1m\n",
            "=========================== Initializing pipeline ===========================\u001b[0m\n",
            "\u001b[38;5;2m✔ Initialized pipeline\u001b[0m\n",
            "\u001b[1m\n",
            "============================= Training pipeline =============================\u001b[0m\n",
            "\u001b[38;5;4mℹ Pipeline: ['tok2vec', 'ner']\u001b[0m\n",
            "\u001b[38;5;4mℹ Initial learn rate: 0.001\u001b[0m\n",
            "E    #       LOSS TOK2VEC  LOSS NER  ENTS_F  ENTS_P  ENTS_R  SCORE \n",
            "---  ------  ------------  --------  ------  ------  ------  ------\n",
            "  0       0          0.00     76.92    0.00    0.00    0.00    0.00\n",
            "  4     200        336.66   2703.75   26.33   30.43   23.20    0.26\n",
            "  8     400       8052.72   1212.98   71.22   76.92   66.30    0.71\n",
            " 13     600       8928.06    700.48   83.58   90.91   77.35    0.84\n",
            " 18     800        293.19    521.88   85.71   88.76   82.87    0.86\n",
            " 23    1000        291.03    477.31   82.32   75.81   90.06    0.82\n",
            " 29    1200        287.40    466.81   82.72   78.61   87.29    0.83\n",
            " 37    1400        441.10    646.05   88.69   96.13   82.32    0.89\n",
            " 46    1600        328.57    748.58   87.39   93.12   82.32    0.87\n",
            " 59    1800        429.74    861.15   88.12   92.68   83.98    0.88\n",
            " 74    2000        605.40   1083.22   87.57   89.60   85.64    0.88\n",
            " 94    2200        450.57   1276.68   88.43   95.51   82.32    0.88\n",
            "118    2400        690.31   1559.30   88.69   96.13   82.32    0.89\n",
            "147    2600        506.37   1740.06   88.48   97.99   80.66    0.88\n",
            "175    2800        526.29   1759.72   88.69   96.13   82.32    0.89\n",
            "204    3000        612.04   1736.86   88.63   93.83   83.98    0.89\n",
            "\u001b[38;5;2m✔ Saved pipeline to output directory\u001b[0m\n",
            "model-last\n"
          ]
        }
      ],
      "source": [
        "! python -m spacy train config.cfg --output ./ --paths.train ./training_data.spacy --paths.dev ./training_data.spacy"
      ]
    },
    {
      "cell_type": "code",
      "execution_count": null,
      "metadata": {
        "id": "gAJ2ZLHICF1Z"
      },
      "outputs": [],
      "source": [
        "nlp_ner = spacy.load(\"/content/model-best\")"
      ]
    },
    {
      "cell_type": "code",
      "execution_count": null,
      "metadata": {
        "id": "zSXegCmpDhoj"
      },
      "outputs": [],
      "source": [
        "doc=nlp_ner('''A PROPANE LEAK, IN THE PRESENCE OF AN IGNITION SOURCE, COULD RESULT IN A FIRE AND/OR EXPLOSION CAUSING PROPERTY DAMAGE AND/OR PERSONAL INJURY.\tDEALERS WILL REPLACE THE PROPANE HOSE WITH ONE OF SHORTER LENGTH AND WILL ALSO SHORTEN THE HOSE SUPPORT TO MOVE THE HOSE AWAY FROM THE TIRE.  THE RECALL BEGAN ON FEBRUARY 1, 2008.  OWNERS MAY CONTACT KEYSTONE RV AT 1-866-425-4369.\tKEYSTONE RV RECALL NO. 08-100.CUSTOMERS MAY ALSO CONTACT THE NATIONAL HIGHWAY TRAFFIC SAFETY ADMINISTRATION'S VEHICLE SAFETY HOTLINE AT 1-888-327-4236 (TTY 1-800-424-9153), OR GO TO HTTP://WWW.SAFERCAR.GOV.\n",
        "''')\n"
      ]
    },
    {
      "cell_type": "code",
      "execution_count": null,
      "metadata": {
        "colab": {
          "base_uri": "https://localhost:8080/",
          "height": 227
        },
        "id": "dNTxLpJLEG5y",
        "outputId": "d166d5fe-a7dd-4492-b7a8-f2f8597cb971"
      },
      "outputs": [
        {
          "data": {
            "text/html": [
              "<span class=\"tex2jax_ignore\"><div class=\"entities\" style=\"line-height: 2.5; direction: ltr\">A PROPANE LEAK, IN THE PRESENCE OF AN IGNITION SOURCE, COULD RESULT IN A FIRE AND/OR EXPLOSION CAUSING PROPERTY DAMAGE AND/OR PERSONAL INJURY.\tDEALERS WILL \n",
              "<mark class=\"entity\" style=\"background: #ddd; padding: 0.45em 0.6em; margin: 0 0.25em; line-height: 1; border-radius: 0.35em;\">\n",
              "    REPLACE THE PROPANE HOSE WITH ONE OF SHORTER LENGTH\n",
              "    <span style=\"font-size: 0.8em; font-weight: bold; line-height: 1; border-radius: 0.35em; vertical-align: middle; margin-left: 0.5rem\">CORRECTIVE ACTION</span>\n",
              "</mark>\n",
              " AND WILL ALSO SHORTEN THE HOSE SUPPORT TO MOVE THE HOSE AWAY FROM THE TIRE.  THE RECALL BEGAN ON FEBRUARY 1, 2008.  OWNERS MAY CONTACT KEYSTONE RV AT 1-866-425-4369.\tKEYSTONE RV RECALL NO. 08-100.CUSTOMERS MAY ALSO CONTACT THE NATIONAL HIGHWAY TRAFFIC SAFETY ADMINISTRATION'S VEHICLE SAFETY HOTLINE AT 1-888-327-4236 (TTY 1-800-424-9153), OR GO TO HTTP://WWW.SAFERCAR.GOV.<br></div></span>"
            ],
            "text/plain": [
              "<IPython.core.display.HTML object>"
            ]
          },
          "metadata": {},
          "output_type": "display_data"
        }
      ],
      "source": [
        "spacy.displacy.render(doc, style=\"ent\", jupyter=True)"
      ]
    },
    {
      "cell_type": "code",
      "execution_count": null,
      "metadata": {
        "colab": {
          "base_uri": "https://localhost:8080/",
          "height": 157
        },
        "id": "DsKLlOjsJkbc",
        "outputId": "fdc562bd-60bf-4eb2-bf9a-4a43cf447e38"
      },
      "outputs": [
        {
          "data": {
            "text/html": [
              "<span class=\"tex2jax_ignore\"><div class=\"entities\" style=\"line-height: 2.5; direction: ltr\">The incorrectly sized fuse may blow during an ABS braking event, increasing the risk of a crash.\tOshkosh will provide owners new fuses, a new \n",
              "<mark class=\"entity\" style=\"background: #ddd; padding: 0.45em 0.6em; margin: 0 0.25em; line-height: 1; border-radius: 0.35em;\">\n",
              "    fuse label\n",
              "    <span style=\"font-size: 0.8em; font-weight: bold; line-height: 1; border-radius: 0.35em; vertical-align: middle; margin-left: 0.5rem\">COMPONENT</span>\n",
              "</mark>\n",
              ", and installation instructions, free of charge.  Owner notification letters were mailed on July 29, 2021.  Owners may contact Oshkosh customer service at 1-888-686-7278.\tOwners may also contact the National Highway Traffic Safety Administration Vehicle Safety Hotline at 1-888-327-4236 (TTY 1-800-424-9153), or go to www.nhtsa.gov.<br></div></span>"
            ],
            "text/plain": [
              "<IPython.core.display.HTML object>"
            ]
          },
          "metadata": {},
          "output_type": "display_data"
        }
      ],
      "source": [
        "doc3=nlp_ner('''The incorrectly sized fuse may blow during an ABS braking event, increasing the risk of a crash.\tOshkosh will provide owners new fuses, a new fuse label, and installation instructions, free of charge.  Owner notification letters were mailed on July 29, 2021.  Owners may contact Oshkosh customer service at 1-888-686-7278.\tOwners may also contact the National Highway Traffic Safety Administration Vehicle Safety Hotline at 1-888-327-4236 (TTY 1-800-424-9153), or go to www.nhtsa.gov.\n",
        "''')\n",
        "spacy.displacy.render(doc3, style=\"ent\", jupyter=True)"
      ]
    },
    {
      "cell_type": "markdown",
      "metadata": {
        "id": "tkqN9ASBAiG7"
      },
      "source": [
        "*NER heavily rely on text data for contextual purpose since there is no context of vehicle model in training data it woule be able to predict vehicle name in many cases or in almost all cases apart from training data*\n",
        "\n",
        "*The effectiveness of an NER model comes from understanding how entities relate to the context of the surrounding words. For example, \"Ford\" might be a vehicle model, but it could also appear as part of an organization name or in a different context. The model needs context to distinguish between these possibilities*"
      ]
    },
    {
      "cell_type": "code",
      "execution_count": null,
      "metadata": {
        "colab": {
          "base_uri": "https://localhost:8080/",
          "height": 1000
        },
        "id": "asrBMvLUTfyH",
        "outputId": "2bdbeec5-278c-4747-d8f1-1dcca718cd0d"
      },
      "outputs": [
        {
          "data": {
            "text/html": [
              "<span class=\"tex2jax_ignore\"><div class=\"entities\" style=\"line-height: 2.5; direction: ltr\">If the floor mat moves out of position and \n",
              "<mark class=\"entity\" style=\"background: #ddd; padding: 0.45em 0.6em; margin: 0 0.25em; line-height: 1; border-radius: 0.35em;\">\n",
              "    interferes with the accelerator\n",
              "    <span style=\"font-size: 0.8em; font-weight: bold; line-height: 1; border-radius: 0.35em; vertical-align: middle; margin-left: 0.5rem\">FAILURE ISSUE</span>\n",
              "</mark>\n",
              " or \n",
              "<mark class=\"entity\" style=\"background: #ddd; padding: 0.45em 0.6em; margin: 0 0.25em; line-height: 1; border-radius: 0.35em;\">\n",
              "    brake pedal\n",
              "    <span style=\"font-size: 0.8em; font-weight: bold; line-height: 1; border-radius: 0.35em; vertical-align: middle; margin-left: 0.5rem\">COMPONENTS</span>\n",
              "</mark>\n",
              " operation, it can increase the risk of a crash.\tSubaru has notified owners, and dealers will inspect the \n",
              "<mark class=\"entity\" style=\"background: #ddd; padding: 0.45em 0.6em; margin: 0 0.25em; line-height: 1; border-radius: 0.35em;\">\n",
              "    floor mat retention bracket\n",
              "    <span style=\"font-size: 0.8em; font-weight: bold; line-height: 1; border-radius: 0.35em; vertical-align: middle; margin-left: 0.5rem\">CORRECTIVE ACTION</span>\n",
              "</mark>\n",
              " and \n",
              "<mark class=\"entity\" style=\"background: #ddd; padding: 0.45em 0.6em; margin: 0 0.25em; line-height: 1; border-radius: 0.35em;\">\n",
              "    replace\n",
              "    <span style=\"font-size: 0.8em; font-weight: bold; line-height: 1; border-radius: 0.35em; vertical-align: middle; margin-left: 0.5rem\">CORRECTIVE ACTION</span>\n",
              "</mark>\n",
              " it if necessary, free of charge.  The recall began November 14, 2017.  Owners may contact Subaru customer service at 1-800-782-2783.  Subaru number for this recall is WTR-77.\tOwners may also contact the National Highway Traffic Safety Administration Vehicle Safety Hotline at 1-888-327-4236 (TTY 1-800-424-9153), or go to www.safercar.gov.</div></span>"
            ],
            "text/plain": [
              "<IPython.core.display.HTML object>"
            ]
          },
          "metadata": {},
          "output_type": "display_data"
        },
        {
          "name": "stdout",
          "output_type": "stream",
          "text": [
            "\n",
            "\n",
            "\n",
            "\n"
          ]
        },
        {
          "data": {
            "text/html": [
              "<span class=\"tex2jax_ignore\"><div class=\"entities\" style=\"line-height: 2.5; direction: ltr\">\n",
              "<mark class=\"entity\" style=\"background: #ddd; padding: 0.45em 0.6em; margin: 0 0.25em; line-height: 1; border-radius: 0.35em;\">\n",
              "    THE RIVETS\n",
              "    <span style=\"font-size: 0.8em; font-weight: bold; line-height: 1; border-radius: 0.35em; vertical-align: middle; margin-left: 0.5rem\">COMPONENTS</span>\n",
              "</mark>\n",
              " MUST BE REPLACED WITH THE CORRECT BOLTS.\tSYSTEM: INTERIOR SYSTEMS: SEAT TRACKS AND \n",
              "<mark class=\"entity\" style=\"background: #ddd; padding: 0.45em 0.6em; margin: 0 0.25em; line-height: 1; border-radius: 0.35em;\">\n",
              "    ANCHORS\n",
              "    <span style=\"font-size: 0.8em; font-weight: bold; line-height: 1; border-radius: 0.35em; vertical-align: middle; margin-left: 0.5rem\">COMPONENTS</span>\n",
              "</mark>\n",
              "; \n",
              "<mark class=\"entity\" style=\"background: #ddd; padding: 0.45em 0.6em; margin: 0 0.25em; line-height: 1; border-radius: 0.35em;\">\n",
              "    REAR SEAT\n",
              "    <span style=\"font-size: 0.8em; font-weight: bold; line-height: 1; border-radius: 0.35em; vertical-align: middle; margin-left: 0.5rem\">COMPONENTS</span>\n",
              "</mark>\n",
              "; FMVSS 207.VEHICLE DESCRIPTION: LIGHT-DUTY TRUCKS; 1-TON CREW CAB PICKUP TRUCKS EQUIPPEDWITH AM7 FOLDING \n",
              "<mark class=\"entity\" style=\"background: #ddd; padding: 0.45em 0.6em; margin: 0 0.25em; line-height: 1; border-radius: 0.35em;\">\n",
              "    REAR BENCH\n",
              "    <span style=\"font-size: 0.8em; font-weight: bold; line-height: 1; border-radius: 0.35em; vertical-align: middle; margin-left: 0.5rem\">COMPONENTS</span>\n",
              "</mark>\n",
              " SEAT.CONSEQUENCE OF DEFECTS: IN AN ACCIDENT, THE \n",
              "<mark class=\"entity\" style=\"background: #ddd; padding: 0.45em 0.6em; margin: 0 0.25em; line-height: 1; border-radius: 0.35em;\">\n",
              "    SEAT\n",
              "    <span style=\"font-size: 0.8em; font-weight: bold; line-height: 1; border-radius: 0.35em; vertical-align: middle; margin-left: 0.5rem\">COMPONENTS</span>\n",
              "</mark>\n",
              " WOULD BECOME DETACHEDCAUSING INJURIES TO THE SEAT OCCUPANTS OR OTHER OCCUPANTS IN THE TRUCK.NOTE: IF YOUR VEHICLE IS PRESENTED TO AN AUTHORIZED DEALER ON AN AGREED UPONSERVICE DATE AND THE REMEDY IS NOT PROVIDED WITHIN A REASONABLE TIME AND FREEOF CHARGE OR THE REMEDY DOES NOT CORRECT THE DEFECT OR NONCOMPLIANCE, PLEASECONTACT THE CHEVROLET SERVICE CENTER AT 1-800-222-1020 OR GMC TRUCK SERVICECENTER AT 1-313-456-4547. ALSO, CONTACT THE NATIONAL HIGHWAY TRAFFIC SAFETYADMINISTRATION AUTO SAFETY HOTLINE AT 1-800-424-9393.</div></span>"
            ],
            "text/plain": [
              "<IPython.core.display.HTML object>"
            ]
          },
          "metadata": {},
          "output_type": "display_data"
        },
        {
          "name": "stdout",
          "output_type": "stream",
          "text": [
            "\n",
            "\n",
            "\n",
            "\n"
          ]
        },
        {
          "name": "stderr",
          "output_type": "stream",
          "text": [
            "/usr/local/lib/python3.10/dist-packages/spacy/displacy/__init__.py:213: UserWarning: [W006] No entities to visualize found in Doc object. If this is surprising to you, make sure the Doc was processed using a model that supports named entity recognition, and check the `doc.ents` property manually if necessary.\n",
            "  warnings.warn(Warnings.W006)\n"
          ]
        },
        {
          "data": {
            "text/html": [
              "<span class=\"tex2jax_ignore\"><div class=\"entities\" style=\"line-height: 2.5; direction: ltr\">THIS CONDITION CAN CONTINUE TO DETERIORATE AND WILL EVENTUALLY RESULT IN THE BALL JOINT STUD SEPARATING FROM THE HOUSING INCREASING THE RISK OF LOSS OF VEHICLE CONTROL.\tMOOG WILL REPLACE THESE BALL JOINTS WITH BALL JOINTS FROM ANOTHER SUPPLIER.\tOWNER NOTIFICATION BEGAN OCTOBER 12, 1998.OWNERS WHO DO NOT RECEIVE THE FREE REPLACEMENT BALL JOINTS WITHIN A REASONABLE TIME SHOULD CONTACT MOOG AT 1-314-385-3400.ALSO CONTACT THE NATIONAL HIGHWAY TRAFFIC SAFETY ADMINISTRATION AUTO SAFETY HOTLINE AT 1-888-DASH-2-DOT (1-888-327-4236).</div></span>"
            ],
            "text/plain": [
              "<IPython.core.display.HTML object>"
            ]
          },
          "metadata": {},
          "output_type": "display_data"
        },
        {
          "name": "stdout",
          "output_type": "stream",
          "text": [
            "\n",
            "\n",
            "\n",
            "\n"
          ]
        },
        {
          "data": {
            "text/html": [
              "<span class=\"tex2jax_ignore\"><div class=\"entities\" style=\"line-height: 2.5; direction: ltr\">If the component detaches during deployment, the curtain air bag may not inflate properly during a crash, increasing the risk of injury.  Additionally, if the detached component were to enter the vehicle occupant compartment, there could be an increased risk of occupant injury.\tHyundai will notify owners, and dealers will replace the driver and passenger side curtain air bags, free of charge.  The recall is expected to begin February 9, 2018.  Owners may contact Hyundai customer service at 1-855-671-3059.  Hyundai number for this recall is 171.\tOwners may also contact the National Highway Traffic Safety Administration Vehicle Safety Hotline at 1-888-327-4236 (TTY 1-800-424-9153), or go to www.safercar.gov.</div></span>"
            ],
            "text/plain": [
              "<IPython.core.display.HTML object>"
            ]
          },
          "metadata": {},
          "output_type": "display_data"
        },
        {
          "name": "stdout",
          "output_type": "stream",
          "text": [
            "\n",
            "\n",
            "\n",
            "\n"
          ]
        },
        {
          "data": {
            "text/html": [
              "<span class=\"tex2jax_ignore\"><div class=\"entities\" style=\"line-height: 2.5; direction: ltr\">\n",
              "<mark class=\"entity\" style=\"background: #ddd; padding: 0.45em 0.6em; margin: 0 0.25em; line-height: 1; border-radius: 0.35em;\">\n",
              "    Improper air bag deployment\n",
              "    <span style=\"font-size: 0.8em; font-weight: bold; line-height: 1; border-radius: 0.35em; vertical-align: middle; margin-left: 0.5rem\">FAILURE ISSUE</span>\n",
              "</mark>\n",
              " can increase the risk of an injury.\tDealers will \n",
              "<mark class=\"entity\" style=\"background: #ddd; padding: 0.45em 0.6em; margin: 0 0.25em; line-height: 1; border-radius: 0.35em;\">\n",
              "    replace the trim parts\n",
              "    <span style=\"font-size: 0.8em; font-weight: bold; line-height: 1; border-radius: 0.35em; vertical-align: middle; margin-left: 0.5rem\">CORRECTIVE ACTION</span>\n",
              "</mark>\n",
              ", free of charge.  Owner notification letters were mailed May 27, 2022.  Owners may contact MBUSA customer service at 1-800-367-6372.  MBUSAs number for this recall is 2022050006. \tOwners may also contact the National Highway Traffic Safety Administration Vehicle Safety Hotline at 1-888-327-4236 (TTY 1-800-424-9153), or go to www.nhtsa.gov.</div></span>"
            ],
            "text/plain": [
              "<IPython.core.display.HTML object>"
            ]
          },
          "metadata": {},
          "output_type": "display_data"
        },
        {
          "name": "stdout",
          "output_type": "stream",
          "text": [
            "\n",
            "\n",
            "\n",
            "\n"
          ]
        },
        {
          "data": {
            "text/html": [
              "<span class=\"tex2jax_ignore\"><div class=\"entities\" style=\"line-height: 2.5; direction: ltr\">FORD CAMPAIGN NO H7H.4X4 TRUCKS EQUIPPED W/6 CYLINDER ENGINES.POSSIBILITYTHAT AN \n",
              "<mark class=\"entity\" style=\"background: #ddd; padding: 0.45em 0.6em; margin: 0 0.25em; line-height: 1; border-radius: 0.35em;\">\n",
              "    INCORRECT REAR DRIVESHAFT\n",
              "    <span style=\"font-size: 0.8em; font-weight: bold; line-height: 1; border-radius: 0.35em; vertical-align: middle; margin-left: 0.5rem\">FAILURE ISSUE</span>\n",
              "</mark>\n",
              " WAS INSTALLED IN PRODUCTION.IFTHISCONDITION EXISTS THE DRIVESHAFT WILL VIBRATE AND DEFLECT AT HIGH SPEEDS.THIS VIBRATION AND \n",
              "<mark class=\"entity\" style=\"background: #ddd; padding: 0.45em 0.6em; margin: 0 0.25em; line-height: 1; border-radius: 0.35em;\">\n",
              "    DEFLECTION\n",
              "    <span style=\"font-size: 0.8em; font-weight: bold; line-height: 1; border-radius: 0.35em; vertical-align: middle; margin-left: 0.5rem\">FAILURE ISSUE</span>\n",
              "</mark>\n",
              " COULD CAUSE SHAFT TOBREAK.A \n",
              "<mark class=\"entity\" style=\"background: #ddd; padding: 0.45em 0.6em; margin: 0 0.25em; line-height: 1; border-radius: 0.35em;\">\n",
              "    BROKEN DRIVESHAFTMIGHT\n",
              "    <span style=\"font-size: 0.8em; font-weight: bold; line-height: 1; border-radius: 0.35em; vertical-align: middle; margin-left: 0.5rem\">FAILURE ISSUE</span>\n",
              "</mark>\n",
              " ADVERSELY AFFECT CONTROL OF VEHICLE.(CORRECT BY INSPECTING AND REPLACEWITH CORRECT \n",
              "<mark class=\"entity\" style=\"background: #ddd; padding: 0.45em 0.6em; margin: 0 0.25em; line-height: 1; border-radius: 0.35em;\">\n",
              "    DRIVESHAFT\n",
              "    <span style=\"font-size: 0.8em; font-weight: bold; line-height: 1; border-radius: 0.35em; vertical-align: middle; margin-left: 0.5rem\">COMPONENTS</span>\n",
              "</mark>\n",
              " WHERE NECESSARY.</div></span>"
            ],
            "text/plain": [
              "<IPython.core.display.HTML object>"
            ]
          },
          "metadata": {},
          "output_type": "display_data"
        },
        {
          "name": "stdout",
          "output_type": "stream",
          "text": [
            "\n",
            "\n",
            "\n",
            "\n"
          ]
        },
        {
          "data": {
            "text/html": [
              "<span class=\"tex2jax_ignore\"><div class=\"entities\" style=\"line-height: 2.5; direction: ltr\">If the \n",
              "<mark class=\"entity\" style=\"background: #ddd; padding: 0.45em 0.6em; margin: 0 0.25em; line-height: 1; border-radius: 0.35em;\">\n",
              "    fuel pump fails\n",
              "    <span style=\"font-size: 0.8em; font-weight: bold; line-height: 1; border-radius: 0.35em; vertical-align: middle; margin-left: 0.5rem\">FAILURE ISSUE</span>\n",
              "</mark>\n",
              ", the vehicle may stall without warning, increasing the risk of a crash.\tFord will notify owners, and dealers will \n",
              "<mark class=\"entity\" style=\"background: #ddd; padding: 0.45em 0.6em; margin: 0 0.25em; line-height: 1; border-radius: 0.35em;\">\n",
              "    replace the fuel pump\n",
              "    <span style=\"font-size: 0.8em; font-weight: bold; line-height: 1; border-radius: 0.35em; vertical-align: middle; margin-left: 0.5rem\">CORRECTIVE ACTION</span>\n",
              "</mark>\n",
              ", free of charge.  The recall began on February 27, 2015.  Owners may contact Ford customer service at 1-866-436-7332.  Fords number for this recall is 14S30. \tOwners may also contact the National Highway Traffic Safety Administration Vehicle Safety Hotline at 1-888-327-4236 (TTY 1-800-424-9153), or go to www.safercar.gov.</div></span>"
            ],
            "text/plain": [
              "<IPython.core.display.HTML object>"
            ]
          },
          "metadata": {},
          "output_type": "display_data"
        },
        {
          "name": "stdout",
          "output_type": "stream",
          "text": [
            "\n",
            "\n",
            "\n",
            "\n"
          ]
        },
        {
          "data": {
            "text/html": [
              "<span class=\"tex2jax_ignore\"><div class=\"entities\" style=\"line-height: 2.5; direction: ltr\">IN THE EVENT OF A SEPARATION, THE FALLING GLASS COULD CREATE A ROAD HAZARD OR STRIKE A TRAILING VEHICLE, AND CAUSE A CRASH.\tWEBASTO, THE MANUFACTURER OF THE \n",
              "<mark class=\"entity\" style=\"background: #ddd; padding: 0.45em 0.6em; margin: 0 0.25em; line-height: 1; border-radius: 0.35em;\">\n",
              "    SUNROOFS\n",
              "    <span style=\"font-size: 0.8em; font-weight: bold; line-height: 1; border-radius: 0.35em; vertical-align: middle; margin-left: 0.5rem\">COMPONENTS</span>\n",
              "</mark>\n",
              ", WILL BE PERFORMING THE \n",
              "<mark class=\"entity\" style=\"background: #ddd; padding: 0.45em 0.6em; margin: 0 0.25em; line-height: 1; border-radius: 0.35em;\">\n",
              "    SAFETY RECALL CAMPAIGN.\n",
              "    <span style=\"font-size: 0.8em; font-weight: bold; line-height: 1; border-radius: 0.35em; vertical-align: middle; margin-left: 0.5rem\">CORRECTIVE ACTION</span>\n",
              "</mark>\n",
              "  OWNERS WHO HAVE BEEN IDENTIFIED AS HAVING AN AFFECTED SUNROOF INSTALLED IN THEIR VEHICLE WILL RECEIVE A SAFETY RECALL NOTICE FROM WEBASTO.   THE SAFETY RECALL BEGAN ON OCTOBER 8, 2010.  IN ORDER TO DETERMINE IF YOUR VEHICLE IS AFFECTED, PLEASE REVIEW THE LIST OF VEHICLES PROVIDED TO US BY M &amp; M AUTOMOTIVE] BY CLICKING ON THE HYPERLINK &lt;a href=http://www-odi.nhtsa.dot.gov/acms/docservlet/Artemis/Public/Recalls/2011/V/RCORRD-11V041-7676.pdf&gt;AFFECTED VEHICLE LIST&lt;/a&gt; OR YOU MAY VISIT WEBASTOS WEBSITE AT &lt;a href=http://www.sunroofcheck.com&gt; WWW.SUNROOFCHECK.COM&lt;/a&gt;. YOU CAN ALSO CALL WEBASTO TOLL-FREE AT 1-888-749-8632.\tOWNERS MAY ALSO CONTACT THE NATIONAL HIGHWAY TRAFFIC SAFETY ADMINISTRATIONS VEHICLE SAFETY HOTLINE AT 1-888-327-4236 (TTY 1-800-424-9153), OR GO TO &lt;A HREF=HTTP://WWW.SAFERCAR.GOV&gt;HTTP://WWW.SAFERCAR.GOV&lt;/A&gt; .</div></span>"
            ],
            "text/plain": [
              "<IPython.core.display.HTML object>"
            ]
          },
          "metadata": {},
          "output_type": "display_data"
        },
        {
          "name": "stdout",
          "output_type": "stream",
          "text": [
            "\n",
            "\n",
            "\n",
            "\n"
          ]
        },
        {
          "data": {
            "text/html": [
              "<span class=\"tex2jax_ignore\"><div class=\"entities\" style=\"line-height: 2.5; direction: ltr\">In the event of a fire, if the \n",
              "<mark class=\"entity\" style=\"background: #ddd; padding: 0.45em 0.6em; margin: 0 0.25em; line-height: 1; border-radius: 0.35em;\">\n",
              "    fire extinguisher does not function properly\n",
              "    <span style=\"font-size: 0.8em; font-weight: bold; line-height: 1; border-radius: 0.35em; vertical-align: middle; margin-left: 0.5rem\">FAILURE ISSUE</span>\n",
              "</mark>\n",
              ", it can increase the risk of injury.\t&quot;Volvo will notify owners, instructing them to contact Kidde for a \n",
              "<mark class=\"entity\" style=\"background: #ddd; padding: 0.45em 0.6em; margin: 0 0.25em; line-height: 1; border-radius: 0.35em;\">\n",
              "    replacement fire extinguisher\n",
              "    <span style=\"font-size: 0.8em; font-weight: bold; line-height: 1; border-radius: 0.35em; vertical-align: middle; margin-left: 0.5rem\">CORRECTIVE ACTION</span>\n",
              "</mark>\n",
              ", free of charge. The recall began on November 2, 2017.  Owners may contact Volvo customer service at 1-800-528-6586, or Kidde customer service toll-free at 1-855-262-3540, or online at www.kidde.com and click on &quot;&quot;Product Safety Recall&quot;&quot; for more information.&quot;\tOwners may also contact the National Highway Traffic Safety Administration Vehicle Safety Hotline at 1-888-327-4236 (TTY 1-800-424-9153), or go to www.safercar.gov.</div></span>"
            ],
            "text/plain": [
              "<IPython.core.display.HTML object>"
            ]
          },
          "metadata": {},
          "output_type": "display_data"
        },
        {
          "name": "stdout",
          "output_type": "stream",
          "text": [
            "\n",
            "\n",
            "\n",
            "\n"
          ]
        },
        {
          "data": {
            "text/html": [
              "<span class=\"tex2jax_ignore\"><div class=\"entities\" style=\"line-height: 2.5; direction: ltr\">THE DEALER WILL DO A TORQUE CHECK OF THE SELF-LOCKING NUTS AND, IF THE \n",
              "<mark class=\"entity\" style=\"background: #ddd; padding: 0.45em 0.6em; margin: 0 0.25em; line-height: 1; border-radius: 0.35em;\">\n",
              "    NUTS ARE FOUND TO BE LOOSE\n",
              "    <span style=\"font-size: 0.8em; font-weight: bold; line-height: 1; border-radius: 0.35em; vertical-align: middle; margin-left: 0.5rem\">FAILURE ISSUE</span>\n",
              "</mark>\n",
              ", THEY WILL BE \n",
              "<mark class=\"entity\" style=\"background: #ddd; padding: 0.45em 0.6em; margin: 0 0.25em; line-height: 1; border-radius: 0.35em;\">\n",
              "    TIGHTENED TO THE PROPER TORQUE\n",
              "    <span style=\"font-size: 0.8em; font-weight: bold; line-height: 1; border-radius: 0.35em; vertical-align: middle; margin-left: 0.5rem\">CORRECTIVE ACTION</span>\n",
              "</mark>\n",
              " SPECIFICATIONS, FREE OF CHARGE.\tVEHICLE DESCRIPTION: PASSENGER VEHICLES.SYSTEM: STEERING; \n",
              "<mark class=\"entity\" style=\"background: #ddd; padding: 0.45em 0.6em; margin: 0 0.25em; line-height: 1; border-radius: 0.35em;\">\n",
              "    SELF LOCKING NUTS\n",
              "    <span style=\"font-size: 0.8em; font-weight: bold; line-height: 1; border-radius: 0.35em; vertical-align: middle; margin-left: 0.5rem\">CORRECTIVE ACTION</span>\n",
              "</mark>\n",
              " (STEERING COLUMN).CONSEQUENCES OF DEFECT: IF THE \n",
              "<mark class=\"entity\" style=\"background: #ddd; padding: 0.45em 0.6em; margin: 0 0.25em; line-height: 1; border-radius: 0.35em;\">\n",
              "    NUTS LOOSEN AND FALL OFF\n",
              "    <span style=\"font-size: 0.8em; font-weight: bold; line-height: 1; border-radius: 0.35em; vertical-align: middle; margin-left: 0.5rem\">FAILURE ISSUE</span>\n",
              "</mark>\n",
              ", THIS CAN LEAD TO LOSSOF VEHICLE CONTROL AND AN ACCIDENT.NOTE: PRIOR WARNING TO THE DRIVER SHOULD OCCUR IN THE FORM OF ABNORMAL STEERINGPLAY, CAUSED BY THE \n",
              "<mark class=\"entity\" style=\"background: #ddd; padding: 0.45em 0.6em; margin: 0 0.25em; line-height: 1; border-radius: 0.35em;\">\n",
              "    LOOSE NUTS\n",
              "    <span style=\"font-size: 0.8em; font-weight: bold; line-height: 1; border-radius: 0.35em; vertical-align: middle; margin-left: 0.5rem\">FAILURE ISSUE</span>\n",
              "</mark>\n",
              ".</div></span>"
            ],
            "text/plain": [
              "<IPython.core.display.HTML object>"
            ]
          },
          "metadata": {},
          "output_type": "display_data"
        },
        {
          "name": "stdout",
          "output_type": "stream",
          "text": [
            "\n",
            "\n",
            "\n",
            "\n"
          ]
        }
      ],
      "source": [
        "import spacy\n",
        "from spacy.training.example import Example\n",
        "\n",
        "# Load your fine-tuned model\n",
        "nlp = spacy.load('./model-best')\n",
        "test_data=[\n",
        "    'If the floor mat moves out of position and interferes with the accelerator or brake pedal operation, it can increase the risk of a crash.\tSubaru has notified owners, and dealers will inspect the floor mat retention bracket and replace it if necessary, free of charge.  The recall began November 14, 2017.  Owners may contact Subaru customer service at 1-800-782-2783.  Subaru number for this recall is WTR-77.\tOwners may also contact the National Highway Traffic Safety Administration Vehicle Safety Hotline at 1-888-327-4236 (TTY 1-800-424-9153), or go to www.safercar.gov.'\n",
        ",'THE RIVETS MUST BE REPLACED WITH THE CORRECT BOLTS.\tSYSTEM: INTERIOR SYSTEMS: SEAT TRACKS AND ANCHORS; REAR SEAT; FMVSS 207.VEHICLE DESCRIPTION: LIGHT-DUTY TRUCKS; 1-TON CREW CAB PICKUP TRUCKS EQUIPPEDWITH AM7 FOLDING REAR BENCH SEAT.CONSEQUENCE OF DEFECTS: IN AN ACCIDENT, THE SEAT WOULD BECOME DETACHEDCAUSING INJURIES TO THE SEAT OCCUPANTS OR OTHER OCCUPANTS IN THE TRUCK.NOTE: IF YOUR VEHICLE IS PRESENTED TO AN AUTHORIZED DEALER ON AN AGREED UPONSERVICE DATE AND THE REMEDY IS NOT PROVIDED WITHIN A REASONABLE TIME AND FREEOF CHARGE OR THE REMEDY DOES NOT CORRECT THE DEFECT OR NONCOMPLIANCE, PLEASECONTACT THE CHEVROLET SERVICE CENTER AT 1-800-222-1020 OR GMC TRUCK SERVICECENTER AT 1-313-456-4547. ALSO, CONTACT THE NATIONAL HIGHWAY TRAFFIC SAFETYADMINISTRATION AUTO SAFETY HOTLINE AT 1-800-424-9393.'\n",
        ",'THIS CONDITION CAN CONTINUE TO DETERIORATE AND WILL EVENTUALLY RESULT IN THE BALL JOINT STUD SEPARATING FROM THE HOUSING INCREASING THE RISK OF LOSS OF VEHICLE CONTROL.\tMOOG WILL REPLACE THESE BALL JOINTS WITH BALL JOINTS FROM ANOTHER SUPPLIER.\tOWNER NOTIFICATION BEGAN OCTOBER 12, 1998.OWNERS WHO DO NOT RECEIVE THE FREE REPLACEMENT BALL JOINTS WITHIN A REASONABLE TIME SHOULD CONTACT MOOG AT 1-314-385-3400.ALSO CONTACT THE NATIONAL HIGHWAY TRAFFIC SAFETY ADMINISTRATION AUTO SAFETY HOTLINE AT 1-888-DASH-2-DOT (1-888-327-4236).'\n",
        ",'If the component detaches during deployment, the curtain air bag may not inflate properly during a crash, increasing the risk of injury.  Additionally, if the detached component were to enter the vehicle occupant compartment, there could be an increased risk of occupant injury.\tHyundai will notify owners, and dealers will replace the driver and passenger side curtain air bags, free of charge.  The recall is expected to begin February 9, 2018.  Owners may contact Hyundai customer service at 1-855-671-3059.  Hyundai number for this recall is 171.\tOwners may also contact the National Highway Traffic Safety Administration Vehicle Safety Hotline at 1-888-327-4236 (TTY 1-800-424-9153), or go to www.safercar.gov.'\n",
        ",'Improper air bag deployment can increase the risk of an injury.\tDealers will replace the trim parts, free of charge.  Owner notification letters were mailed May 27, 2022.  Owners may contact MBUSA customer service at 1-800-367-6372.  MBUSAs number for this recall is 2022050006. \tOwners may also contact the National Highway Traffic Safety Administration Vehicle Safety Hotline at 1-888-327-4236 (TTY 1-800-424-9153), or go to www.nhtsa.gov.'\n",
        ",'FORD CAMPAIGN NO H7H.4X4 TRUCKS EQUIPPED W/6 CYLINDER ENGINES.POSSIBILITYTHAT AN INCORRECT REAR DRIVESHAFT WAS INSTALLED IN PRODUCTION.IFTHISCONDITION EXISTS THE DRIVESHAFT WILL VIBRATE AND DEFLECT AT HIGH SPEEDS.THIS VIBRATION AND DEFLECTION COULD CAUSE SHAFT TOBREAK.A BROKEN DRIVESHAFTMIGHT ADVERSELY AFFECT CONTROL OF VEHICLE.(CORRECT BY INSPECTING AND REPLACEWITH CORRECT DRIVESHAFT WHERE NECESSARY.'\n",
        ",'If the fuel pump fails, the vehicle may stall without warning, increasing the risk of a crash.\tFord will notify owners, and dealers will replace the fuel pump, free of charge.  The recall began on February 27, 2015.  Owners may contact Ford customer service at 1-866-436-7332.  Fords number for this recall is 14S30. \tOwners may also contact the National Highway Traffic Safety Administration Vehicle Safety Hotline at 1-888-327-4236 (TTY 1-800-424-9153), or go to www.safercar.gov.'\n",
        ",'IN THE EVENT OF A SEPARATION, THE FALLING GLASS COULD CREATE A ROAD HAZARD OR STRIKE A TRAILING VEHICLE, AND CAUSE A CRASH.\tWEBASTO, THE MANUFACTURER OF THE SUNROOFS, WILL BE PERFORMING THE SAFETY RECALL CAMPAIGN.  OWNERS WHO HAVE BEEN IDENTIFIED AS HAVING AN AFFECTED SUNROOF INSTALLED IN THEIR VEHICLE WILL RECEIVE A SAFETY RECALL NOTICE FROM WEBASTO.   THE SAFETY RECALL BEGAN ON OCTOBER 8, 2010.  IN ORDER TO DETERMINE IF YOUR VEHICLE IS AFFECTED, PLEASE REVIEW THE LIST OF VEHICLES PROVIDED TO US BY M & M AUTOMOTIVE] BY CLICKING ON THE HYPERLINK <a href=http://www-odi.nhtsa.dot.gov/acms/docservlet/Artemis/Public/Recalls/2011/V/RCORRD-11V041-7676.pdf>AFFECTED VEHICLE LIST</a> OR YOU MAY VISIT WEBASTOS WEBSITE AT <a href=http://www.sunroofcheck.com> WWW.SUNROOFCHECK.COM</a>. YOU CAN ALSO CALL WEBASTO TOLL-FREE AT 1-888-749-8632.\tOWNERS MAY ALSO CONTACT THE NATIONAL HIGHWAY TRAFFIC SAFETY ADMINISTRATIONS VEHICLE SAFETY HOTLINE AT 1-888-327-4236 (TTY 1-800-424-9153), OR GO TO <A HREF=HTTP://WWW.SAFERCAR.GOV>HTTP://WWW.SAFERCAR.GOV</A> .'\n",
        ",'In the event of a fire, if the fire extinguisher does not function properly, it can increase the risk of injury.\t\"Volvo will notify owners, instructing them to contact Kidde for a replacement fire extinguisher, free of charge. The recall began on November 2, 2017.  Owners may contact Volvo customer service at 1-800-528-6586, or Kidde customer service toll-free at 1-855-262-3540, or online at www.kidde.com and click on \"\"Product Safety Recall\"\" for more information.\"\tOwners may also contact the National Highway Traffic Safety Administration Vehicle Safety Hotline at 1-888-327-4236 (TTY 1-800-424-9153), or go to www.safercar.gov.'\n",
        ",'THE DEALER WILL DO A TORQUE CHECK OF THE SELF-LOCKING NUTS AND, IF THE NUTS ARE FOUND TO BE LOOSE, THEY WILL BE TIGHTENED TO THE PROPER TORQUE SPECIFICATIONS, FREE OF CHARGE.\tVEHICLE DESCRIPTION: PASSENGER VEHICLES.SYSTEM: STEERING; SELF LOCKING NUTS (STEERING COLUMN).CONSEQUENCES OF DEFECT: IF THE NUTS LOOSEN AND FALL OFF, THIS CAN LEAD TO LOSSOF VEHICLE CONTROL AND AN ACCIDENT.NOTE: PRIOR WARNING TO THE DRIVER SHOULD OCCUR IN THE FORM OF ABNORMAL STEERINGPLAY, CAUSED BY THE LOOSE NUTS.'\n",
        "]\n",
        "\n",
        "\n",
        "for ele in test_data:\n",
        "  doc=nlp_ner(ele)\n",
        "  spacy.displacy.render(doc, style=\"ent\", jupyter=True)\n",
        "  print('\\n')\n",
        "  print('\\n')\n",
        "\n",
        "\n",
        "\n",
        "\n",
        "\n",
        "# Prepare test examples\n",
        "# test_examples = []\n",
        "# for example in test_data:\n",
        "#     doc = nlp.make_doc(example['text'])\n",
        "#     ents = example['entities']\n",
        "#     example = Example.from_dict(doc, {'entities': ents})\n",
        "#     test_examples.append(example)\n",
        "\n",
        "# # Evaluate the model\n",
        "# results = nlp.evaluate(test_examples)\n",
        "\n",
        "# # Print evaluation metrics\n",
        "# print(results)\n"
      ]
    },
    {
      "cell_type": "markdown",
      "metadata": {
        "id": "rLrzb_P89d5f"
      },
      "source": [
        "So spacy's own NER models fails to identify vehicle model names so we cant use it"
      ]
    },
    {
      "cell_type": "markdown",
      "metadata": {
        "id": "h2GJ7zfZWtAG"
      },
      "source": [
        "Let's do some more random"
      ]
    },
    {
      "cell_type": "code",
      "execution_count": null,
      "metadata": {
        "id": "HVjzc2GWaBJd"
      },
      "outputs": [],
      "source": [
        "import spacy\n",
        "\n",
        "# Assuming your model is stored in the current directory\n",
        "model_directory = './output'\n",
        "\n",
        "# Load the trained model\n",
        "nlp = spacy.load(model_directory)\n",
        "\n",
        "# Save the model to a directory for future use\n",
        "nlp.to_disk('path_to_save_model')\n",
        "\n",
        "print(f'Model saved to path_to_save_model')\n"
      ]
    }
  ],
  "metadata": {
    "colab": {
      "include_colab_link": true,
      "provenance": []
    },
    "kernelspec": {
      "display_name": "Python 3",
      "name": "python3"
    },
    "language_info": {
      "name": "python"
    }
  },
  "nbformat": 4,
  "nbformat_minor": 0
}
