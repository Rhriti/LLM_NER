{
  "cells": [
    {
      "cell_type": "markdown",
      "metadata": {
        "colab_type": "text",
        "id": "view-in-github"
      },
      "source": [
        "<a href=\"https://colab.research.google.com/github/Rhriti/Predii/blob/gh-pages/LLM_NER.ipynb\" target=\"_parent\"><img src=\"https://colab.research.google.com/assets/colab-badge.svg\" alt=\"Open In Colab\"/></a>"
      ]
    },
    {
      "cell_type": "code",
      "execution_count": null,
      "metadata": {
        "id": "LAqqtyfc7aHv"
      },
      "outputs": [],
      "source": [
        "pip install -U spacy -q\n"
      ]
    },
    {
      "cell_type": "code",
      "execution_count": null,
      "metadata": {
        "id": "NtwNDMVx7cHy"
      },
      "outputs": [],
      "source": [
        "import spacy\n",
        "from spacy.tokens import DocBin\n",
        "from tqdm import  tqdm\n",
        "\n",
        "nlp=spacy.blank(\"en\")\n",
        "db=DocBin()"
      ]
    },
    {
      "cell_type": "code",
      "execution_count": null,
      "metadata": {
        "id": "l63BlWcP7fTy"
      },
      "outputs": [],
      "source": [
        "import json\n",
        "f=open('./final_annotations.json')\n",
        "TRAIN_DATA=json.load(f)"
      ]
    },
    {
      "cell_type": "code",
      "execution_count": null,
      "metadata": {
        "colab": {
          "base_uri": "https://localhost:8080/"
        },
        "id": "IxpszLp_7rhM",
        "outputId": "a57a8c3a-f257-408a-b144-8ea60c86c256"
      },
      "outputs": [
        {
          "name": "stderr",
          "output_type": "stream",
          "text": [
            "100%|██████████| 48/48 [00:00<00:00, 594.40it/s]\n"
          ]
        }
      ],
      "source": [
        "\n",
        "for ele in tqdm(TRAIN_DATA['annotations']):\n",
        "    if ele is None:continue\n",
        "    text=ele[0]\n",
        "    annot=ele[1]\n",
        "    doc = nlp.make_doc(text)\n",
        "    ents = []\n",
        "    for start, end, label in annot[\"entities\"]:\n",
        "        span = doc.char_span(start, end, label=label, alignment_mode=\"contract\")\n",
        "        if span is None:\n",
        "            print(\"Skipping entity\")\n",
        "        else:\n",
        "            ents.append(span)\n",
        "    doc.ents = ents\n",
        "    db.add(doc)\n",
        "\n",
        "db.to_disk(\"./training_data.spacy\") # save the docbin object"
      ]
    },
    {
      "cell_type": "code",
      "execution_count": null,
      "metadata": {
        "colab": {
          "base_uri": "https://localhost:8080/"
        },
        "id": "4kZZA9f97zw0",
        "outputId": "d4040934-27cd-43b0-ffd9-282c3ea7bc67"
      },
      "outputs": [
        {
          "name": "stdout",
          "output_type": "stream",
          "text": [
            "\u001b[38;5;3m⚠ To generate a more effective transformer-based config (GPU-only),\n",
            "install the spacy-transformers package and re-run this command. The config\n",
            "generated now does not use transformers.\u001b[0m\n",
            "\u001b[38;5;4mℹ Generated config template specific for your use case\u001b[0m\n",
            "- Language: en\n",
            "- Pipeline: ner\n",
            "- Optimize for: efficiency\n",
            "- Hardware: CPU\n",
            "- Transformer: None\n",
            "\u001b[38;5;2m✔ Auto-filled config with all values\u001b[0m\n",
            "\u001b[38;5;2m✔ Saved config\u001b[0m\n",
            "config.cfg\n",
            "You can now add your data and train your pipeline:\n",
            "python -m spacy train config.cfg --paths.train ./train.spacy --paths.dev ./dev.spacy\n"
          ]
        }
      ],
      "source": [
        "! python -m spacy init config config.cfg --lang en --pipeline ner --optimize efficiency --force"
      ]
    },
    {
      "cell_type": "code",
      "execution_count": null,
      "metadata": {
        "colab": {
          "base_uri": "https://localhost:8080/"
        },
        "id": "Lfl86NFK79Y6",
        "outputId": "a4e0b5e0-bfa3-4c02-bd38-e6c91be52753"
      },
      "outputs": [
        {
          "name": "stdout",
          "output_type": "stream",
          "text": [
            "\u001b[38;5;4mℹ Saving to output directory: .\u001b[0m\n",
            "\u001b[38;5;4mℹ Using CPU\u001b[0m\n",
            "\u001b[1m\n",
            "=========================== Initializing pipeline ===========================\u001b[0m\n",
            "\u001b[38;5;2m✔ Initialized pipeline\u001b[0m\n",
            "\u001b[1m\n",
            "============================= Training pipeline =============================\u001b[0m\n",
            "\u001b[38;5;4mℹ Pipeline: ['tok2vec', 'ner']\u001b[0m\n",
            "\u001b[38;5;4mℹ Initial learn rate: 0.001\u001b[0m\n",
            "E    #       LOSS TOK2VEC  LOSS NER  ENTS_F  ENTS_P  ENTS_R  SCORE \n",
            "---  ------  ------------  --------  ------  ------  ------  ------\n",
            "  0       0          0.00     76.92    0.00    0.00    0.00    0.00\n",
            "  4     200        336.66   2703.75   26.33   30.43   23.20    0.26\n",
            "  8     400       8052.72   1212.98   71.22   76.92   66.30    0.71\n",
            " 13     600       8928.06    700.48   83.58   90.91   77.35    0.84\n",
            " 18     800        293.19    521.88   85.71   88.76   82.87    0.86\n",
            " 23    1000        291.03    477.31   82.32   75.81   90.06    0.82\n",
            " 29    1200        287.40    466.81   82.72   78.61   87.29    0.83\n",
            " 37    1400        441.10    646.05   88.69   96.13   82.32    0.89\n",
            " 46    1600        328.57    748.58   87.39   93.12   82.32    0.87\n",
            " 59    1800        429.74    861.15   88.12   92.68   83.98    0.88\n",
            " 74    2000        605.40   1083.22   87.57   89.60   85.64    0.88\n",
            " 94    2200        450.57   1276.68   88.43   95.51   82.32    0.88\n",
            "118    2400        690.31   1559.30   88.69   96.13   82.32    0.89\n",
            "147    2600        506.37   1740.06   88.48   97.99   80.66    0.88\n",
            "175    2800        526.29   1759.72   88.69   96.13   82.32    0.89\n",
            "204    3000        612.04   1736.86   88.63   93.83   83.98    0.89\n",
            "\u001b[38;5;2m✔ Saved pipeline to output directory\u001b[0m\n",
            "model-last\n"
          ]
        }
      ],
      "source": [
        "! python -m spacy train config.cfg --output ./ --paths.train ./training_data.spacy --paths.dev ./training_data.spacy"
      ]
    },
    {
      "cell_type": "code",
      "execution_count": null,
      "metadata": {
        "id": "gAJ2ZLHICF1Z"
      },
      "outputs": [],
      "source": [
        "nlp_ner = spacy.load(\"/content/model-best\")"
      ]
    },
    {
      "cell_type": "code",
      "execution_count": null,
      "metadata": {
        "id": "zSXegCmpDhoj"
      },
      "outputs": [],
      "source": [
        "doc=nlp_ner('''A PROPANE LEAK, IN THE PRESENCE OF AN IGNITION SOURCE, COULD RESULT IN A FIRE AND/OR EXPLOSION CAUSING PROPERTY DAMAGE AND/OR PERSONAL INJURY.\tDEALERS WILL REPLACE THE PROPANE HOSE WITH ONE OF SHORTER LENGTH AND WILL ALSO SHORTEN THE HOSE SUPPORT TO MOVE THE HOSE AWAY FROM THE TIRE.  THE RECALL BEGAN ON FEBRUARY 1, 2008.  OWNERS MAY CONTACT KEYSTONE RV AT 1-866-425-4369.\tKEYSTONE RV RECALL NO. 08-100.CUSTOMERS MAY ALSO CONTACT THE NATIONAL HIGHWAY TRAFFIC SAFETY ADMINISTRATION'S VEHICLE SAFETY HOTLINE AT 1-888-327-4236 (TTY 1-800-424-9153), OR GO TO HTTP://WWW.SAFERCAR.GOV.\n",
        "''')\n"
      ]
    },
    {
      "cell_type": "code",
      "execution_count": null,
      "metadata": {
        "colab": {
          "base_uri": "https://localhost:8080/",
          "height": 227
        },
        "id": "dNTxLpJLEG5y",
        "outputId": "d166d5fe-a7dd-4492-b7a8-f2f8597cb971"
      },
      "outputs": [
        {
          "data": {
            "text/html": [
              "<span class=\"tex2jax_ignore\"><div class=\"entities\" style=\"line-height: 2.5; direction: ltr\">A PROPANE LEAK, IN THE PRESENCE OF AN IGNITION SOURCE, COULD RESULT IN A FIRE AND/OR EXPLOSION CAUSING PROPERTY DAMAGE AND/OR PERSONAL INJURY.\tDEALERS WILL \n",
              "<mark class=\"entity\" style=\"background: #ddd; padding: 0.45em 0.6em; margin: 0 0.25em; line-height: 1; border-radius: 0.35em;\">\n",
              "    REPLACE THE PROPANE HOSE WITH ONE OF SHORTER LENGTH\n",
              "    <span style=\"font-size: 0.8em; font-weight: bold; line-height: 1; border-radius: 0.35em; vertical-align: middle; margin-left: 0.5rem\">CORRECTIVE ACTION</span>\n",
              "</mark>\n",
              " AND WILL ALSO SHORTEN THE HOSE SUPPORT TO MOVE THE HOSE AWAY FROM THE TIRE.  THE RECALL BEGAN ON FEBRUARY 1, 2008.  OWNERS MAY CONTACT KEYSTONE RV AT 1-866-425-4369.\tKEYSTONE RV RECALL NO. 08-100.CUSTOMERS MAY ALSO CONTACT THE NATIONAL HIGHWAY TRAFFIC SAFETY ADMINISTRATION'S VEHICLE SAFETY HOTLINE AT 1-888-327-4236 (TTY 1-800-424-9153), OR GO TO HTTP://WWW.SAFERCAR.GOV.<br></div></span>"
            ],
            "text/plain": [
              "<IPython.core.display.HTML object>"
            ]
          },
          "metadata": {},
          "output_type": "display_data"
        }
      ],
      "source": [
        "spacy.displacy.render(doc, style=\"ent\", jupyter=True)"
      ]
    },
    {
      "cell_type": "code",
      "execution_count": null,
      "metadata": {
        "colab": {
          "base_uri": "https://localhost:8080/",
          "height": 157
        },
        "id": "DsKLlOjsJkbc",
        "outputId": "fdc562bd-60bf-4eb2-bf9a-4a43cf447e38"
      },
      "outputs": [
        {
          "data": {
            "text/html": [
              "<span class=\"tex2jax_ignore\"><div class=\"entities\" style=\"line-height: 2.5; direction: ltr\">The incorrectly sized fuse may blow during an ABS braking event, increasing the risk of a crash.\tOshkosh will provide owners new fuses, a new \n",
              "<mark class=\"entity\" style=\"background: #ddd; padding: 0.45em 0.6em; margin: 0 0.25em; line-height: 1; border-radius: 0.35em;\">\n",
              "    fuse label\n",
              "    <span style=\"font-size: 0.8em; font-weight: bold; line-height: 1; border-radius: 0.35em; vertical-align: middle; margin-left: 0.5rem\">COMPONENT</span>\n",
              "</mark>\n",
              ", and installation instructions, free of charge.  Owner notification letters were mailed on July 29, 2021.  Owners may contact Oshkosh customer service at 1-888-686-7278.\tOwners may also contact the National Highway Traffic Safety Administration Vehicle Safety Hotline at 1-888-327-4236 (TTY 1-800-424-9153), or go to www.nhtsa.gov.<br></div></span>"
            ],
            "text/plain": [
              "<IPython.core.display.HTML object>"
            ]
          },
          "metadata": {},
          "output_type": "display_data"
        }
      ],
      "source": [
        "doc3=nlp_ner('''The incorrectly sized fuse may blow during an ABS braking event, increasing the risk of a crash.\tOshkosh will provide owners new fuses, a new fuse label, and installation instructions, free of charge.  Owner notification letters were mailed on July 29, 2021.  Owners may contact Oshkosh customer service at 1-888-686-7278.\tOwners may also contact the National Highway Traffic Safety Administration Vehicle Safety Hotline at 1-888-327-4236 (TTY 1-800-424-9153), or go to www.nhtsa.gov.\n",
        "''')\n",
        "spacy.displacy.render(doc3, style=\"ent\", jupyter=True)"
      ]
    },
    {
      "cell_type": "markdown",
      "metadata": {
        "id": "tkqN9ASBAiG7"
      },
      "source": [
        "*NER heavily rely on text data for contextual purpose since there is no context of vehicle model in training data it woule be able to predict vehicle name in many cases or in almost all cases apart from training data*\n",
        "\n",
        "*The effectiveness of an NER model comes from understanding how entities relate to the context of the surrounding words. For example, \"Ford\" might be a vehicle model, but it could also appear as part of an organization name or in a different context. The model needs context to distinguish between these possibilities*"
      ]
    },
    {
      "cell_type": "code",
      "execution_count": null,
      "metadata": {
        "id": "HVjzc2GWaBJd"
      },
      "outputs": [],
      "source": [
        "import spacy\n",
        "\n",
        "# Assuming your model is stored in the current directory\n",
        "model_directory = './output'\n",
        "\n",
        "# Load the trained model\n",
        "nlp = spacy.load(model_directory)\n",
        "\n",
        "# Save the model to a directory for future use\n",
        "nlp.to_disk('path_to_save_model')\n",
        "\n",
        "print(f'Model saved to path_to_save_model')\n"
      ]
    }
  ],
  "metadata": {
    "colab": {
      "include_colab_link": true,
      "provenance": []
    },
    "kernelspec": {
      "display_name": "Python 3",
      "name": "python3"
    },
    "language_info": {
      "name": "python"
    }
  },
  "nbformat": 4,
  "nbformat_minor": 0
}
